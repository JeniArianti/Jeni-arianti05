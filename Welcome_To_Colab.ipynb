{
  "cells": [
    {
      "cell_type": "markdown",
      "metadata": {
        "id": "view-in-github",
        "colab_type": "text"
      },
      "source": [
        "<a href=\"https://colab.research.google.com/github/JeniArianti/Jeni-arianti05/blob/main/Welcome_To_Colab.ipynb\" target=\"_parent\"><img src=\"https://colab.research.google.com/assets/colab-badge.svg\" alt=\"Open In Colab\"/></a>"
      ]
    },
    {
      "cell_type": "code",
      "source": [
        "nama = ['A', 'B', 'C', 'D', 'E']\n",
        "nilai = [90, 65, 78, 85, 72]\n",
        "\n",
        "for i in range(len(nama)):\n",
        "    if nilai[i] >= 75:\n",
        "        print(f\"{nama[i]} memiliki nilai {nilai[i]} dinyatakan Lulus\")\n",
        "    else:\n",
        "        print(f\"{nama[i]} memiliki nilai {nilai[i]} dinyatakan Tidak Lulus\")"
      ],
      "metadata": {
        "colab": {
          "base_uri": "https://localhost:8080/"
        },
        "id": "KNCA5kBJmvxC",
        "outputId": "6cad0e8f-bc1f-4224-a7ab-a0663119e093"
      },
      "execution_count": 1,
      "outputs": [
        {
          "output_type": "stream",
          "name": "stdout",
          "text": [
            "A memiliki nilai 90 dinyatakan Lulus\n",
            "B memiliki nilai 65 dinyatakan Tidak Lulus\n",
            "C memiliki nilai 78 dinyatakan Lulus\n",
            "D memiliki nilai 85 dinyatakan Lulus\n",
            "E memiliki nilai 72 dinyatakan Tidak Lulus\n"
          ]
        }
      ]
    },
    {
      "cell_type": "code",
      "source": [
        "n = int(input(\"Masukkan nilai n: \"))\n",
        "print(\"Angka Ganjil:\")\n",
        "for i in range(1, n+1, 2):\n",
        "    print(i, end=\" \")\n",
        "print(\"\\nAngka Genap:\")\n",
        "for i in range(2, n+1, 2):\n",
        "    print(i, end=\" \")"
      ],
      "metadata": {
        "colab": {
          "base_uri": "https://localhost:8080/"
        },
        "id": "HwgWhU8EnED-",
        "outputId": "2890ac91-27fa-4e71-b27c-8c51b8564297"
      },
      "execution_count": 2,
      "outputs": [
        {
          "output_type": "stream",
          "name": "stdout",
          "text": [
            "Masukkan nilai n: 20\n",
            "Angka Ganjil:\n",
            "1 3 5 7 9 11 13 15 17 19 \n",
            "Angka Genap:\n",
            "2 4 6 8 10 12 14 16 18 20 "
          ]
        }
      ]
    },
    {
      "cell_type": "code",
      "source": [
        "n = int(input(\"Masukkan nilai n: \"))\n",
        "print(\"Bilangan prima dari 1 sampai\", n)\n",
        "for num in range(2, n+1):\n",
        "    is_prima = True\n",
        "    for i in range(2, int(num**0.5)+1):\n",
        "        if num % i == 0:\n",
        "            is_prima = False\n",
        "            break\n",
        "    if is_prima:\n",
        "        print(num, end=\" \")"
      ],
      "metadata": {
        "colab": {
          "base_uri": "https://localhost:8080/"
        },
        "id": "e65VwTvsnUhi",
        "outputId": "aba79238-bc99-4995-b8dc-11cc0f8a170d"
      },
      "execution_count": 3,
      "outputs": [
        {
          "output_type": "stream",
          "name": "stdout",
          "text": [
            "Masukkan nilai n: 30\n",
            "Bilangan prima dari 1 sampai 30\n",
            "2 3 5 7 11 13 17 19 23 29 "
          ]
        }
      ]
    },
    {
      "cell_type": "code",
      "source": [
        "n = int(input(\"Masukkan nilai n: \"))\n",
        "print(\"Bilangan bukan prima dari 1 sampai\", n)\n",
        "for num in range(1, n+1):\n",
        "    if num < 2 or any(num % i == 0 for i in range(2, int(num**0.5)+1)):\n",
        "        print(num, end=\" \")\n",
        ""
      ],
      "metadata": {
        "colab": {
          "base_uri": "https://localhost:8080/"
        },
        "id": "kRIERerhnixt",
        "outputId": "322594fc-de66-4684-f37b-515e6abf5c03"
      },
      "execution_count": 4,
      "outputs": [
        {
          "output_type": "stream",
          "name": "stdout",
          "text": [
            "Masukkan nilai n: 30\n",
            "Bilangan bukan prima dari 1 sampai 30\n",
            "1 4 6 8 9 10 12 14 15 16 18 20 21 22 24 25 26 27 28 30 "
          ]
        }
      ]
    },
    {
      "cell_type": "code",
      "source": [
        "t = [2, 5, 8, 3, 6, 9]\n",
        "p = [1, 4, 7, 2, 5, 8]\n",
        "hasil = [t[i] * p[i] for i in range(len(t))]\n",
        "print(hasil)"
      ],
      "metadata": {
        "colab": {
          "base_uri": "https://localhost:8080/"
        },
        "id": "IwOPWzZGn2Na",
        "outputId": "606cd304-c58c-4678-ce54-bd926af8b1bc"
      },
      "execution_count": 5,
      "outputs": [
        {
          "output_type": "stream",
          "name": "stdout",
          "text": [
            "[2, 20, 56, 6, 30, 72]\n"
          ]
        }
      ]
    },
    {
      "cell_type": "code",
      "source": [
        "uang = 15000\n",
        "barang = ['Telur', 'Beras', 'Tepung', 'Daging', 'Tempe']\n",
        "harga = [2000, 15000, 8000, 23000, 6000]\n",
        "\n",
        "keranjang = barang[0:3]  # Telur, Beras, dan Tepung\n",
        "total = sum(harga[0:3])  # Total harga barang dalam keranjang\n",
        "\n",
        "if total <= uang:\n",
        "    print(f\"Uang cukup karena total pembelian sebesar {total}\")\n",
        "else:\n",
        "    print(f\"Uang tidak cukup karena total pembelian sebesar {total}\")"
      ],
      "metadata": {
        "colab": {
          "base_uri": "https://localhost:8080/"
        },
        "id": "LVyRbtbOn4VW",
        "outputId": "4760fb24-c0ad-4c7f-8240-b01c8f94f0b7"
      },
      "execution_count": 6,
      "outputs": [
        {
          "output_type": "stream",
          "name": "stdout",
          "text": [
            "Uang tidak cukup karena total pembelian sebesar 25000\n"
          ]
        }
      ]
    },
    {
      "cell_type": "code",
      "source": [
        "uang = 15000\n",
        "barang = ['Telur', 'Beras', 'Tepung', 'Daging', 'Tempe']\n",
        "harga = [2000, 15000, 8000, 23000, 6000]\n",
        "\n",
        "keranjang = ['Telur', 'Tepung']\n",
        "total = harga[0] + harga[2]\n",
        "\n",
        "if total <= uang:\n",
        "    print(f\"Uang cukup karena total pembelian sebesar {total}\")\n",
        "else:\n",
        "    print(f\"Uang tidak cukup karena total pembelian sebesar {total}\")"
      ],
      "metadata": {
        "colab": {
          "base_uri": "https://localhost:8080/"
        },
        "id": "_vYkAxdhoCTu",
        "outputId": "d05694cb-876b-45cd-a7f8-9a97d9f43cba"
      },
      "execution_count": 7,
      "outputs": [
        {
          "output_type": "stream",
          "name": "stdout",
          "text": [
            "Uang cukup karena total pembelian sebesar 10000\n"
          ]
        }
      ]
    }
  ],
  "metadata": {
    "colab": {
      "name": "Welcome To Colab",
      "toc_visible": true,
      "provenance": [],
      "include_colab_link": true
    },
    "kernelspec": {
      "display_name": "Python 3",
      "name": "python3"
    }
  },
  "nbformat": 4,
  "nbformat_minor": 0
}