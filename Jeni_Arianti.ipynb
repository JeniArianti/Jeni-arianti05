{
  "nbformat": 4,
  "nbformat_minor": 0,
  "metadata": {
    "colab": {
      "provenance": [],
      "authorship_tag": "ABX9TyN1MEK5dPmcmx04LHIx/xzJ",
      "include_colab_link": true
    },
    "kernelspec": {
      "name": "python3",
      "display_name": "Python 3"
    },
    "language_info": {
      "name": "python"
    }
  },
  "cells": [
    {
      "cell_type": "markdown",
      "metadata": {
        "id": "view-in-github",
        "colab_type": "text"
      },
      "source": [
        "<a href=\"https://colab.research.google.com/github/JeniArianti/Jeni-arianti05/blob/main/Jeni_Arianti.ipynb\" target=\"_parent\"><img src=\"https://colab.research.google.com/assets/colab-badge.svg\" alt=\"Open In Colab\"/></a>"
      ]
    },
    {
      "cell_type": "code",
      "execution_count": null,
      "metadata": {
        "colab": {
          "base_uri": "https://localhost:8080/"
        },
        "id": "3LVysJxLhfdy",
        "outputId": "56ee2edc-d3a2-43a6-87dd-f0c7ec774ef7"
      },
      "outputs": [
        {
          "output_type": "stream",
          "name": "stdout",
          "text": [
            "Hallo, [Jeni Arianti]! Selamat belajar phyton!\n"
          ]
        }
      ],
      "source": [
        "# program cetak nama\n",
        "# mencetak \"Hallo, [Jeni Arianti]! Selamat belajar Phyton!\"\n",
        "\n",
        "print (f\"Hallo, [Jeni Arianti]! Selamat belajar phyton!\")"
      ]
    },
    {
      "cell_type": "code",
      "source": [
        "#program menghitung luas persegi panjang\n",
        "p =int(input(\"panjang\"))\n",
        "l =int(input(\"lebar\"))\n",
        "luas=p*l\n",
        "print(\"luas persegi panjang adalah\", luas)"
      ],
      "metadata": {
        "colab": {
          "base_uri": "https://localhost:8080/"
        },
        "id": "M4TM5cpthnQu",
        "outputId": "ec6e0b13-cd39-409e-bdbe-34a4583da07d"
      },
      "execution_count": null,
      "outputs": [
        {
          "output_type": "stream",
          "name": "stdout",
          "text": [
            "panjang10\n",
            "lebar5\n",
            "luas persegi panjang adalah 50\n"
          ]
        }
      ]
    },
    {
      "cell_type": "code",
      "source": [
        "#program cetak bilangan bulat, menentukan bilangan genap atau ganjil\n",
        "angka =int(input(\"masukkan angka\"))\n",
        "if angka % 2 == 0:\n",
        "    print(\"angka genap\")\n",
        "else:\n",
        "    print(\"angka ganjil\")"
      ],
      "metadata": {
        "colab": {
          "base_uri": "https://localhost:8080/"
        },
        "id": "QBdBLMdNhyjv",
        "outputId": "83896378-0418-48ef-9403-d7dae0017f54"
      },
      "execution_count": null,
      "outputs": [
        {
          "output_type": "stream",
          "name": "stdout",
          "text": [
            "masukkan angka7\n",
            "angka ganjil\n"
          ]
        }
      ]
    },
    {
      "cell_type": "code",
      "source": [
        "#program menampilkan deret bilangan 1 sampai 20 menggunakan perulangan for\n",
        "print(\"deret bilangan 1 sampai 20\")\n",
        "for i in range(1,21):\n",
        "  print(i, end=\" \")"
      ],
      "metadata": {
        "colab": {
          "base_uri": "https://localhost:8080/"
        },
        "id": "epwzShhgkico",
        "outputId": "e0ebed95-c793-4c69-8c53-372ef2a37744"
      },
      "execution_count": null,
      "outputs": [
        {
          "output_type": "stream",
          "name": "stdout",
          "text": [
            "deret bilangan 1 sampai 20\n",
            "1 2 3 4 5 6 7 8 9 10 11 12 13 14 15 16 17 18 19 20 "
          ]
        }
      ]
    },
    {
      "cell_type": "code",
      "source": [
        "#program masukkan bilangan bulat a dan b, menghitung jumlah semua bilangan a dan b\n",
        "a= int(input(\"masukkan bilangan pertama: \"))\n",
        "b= int(input(\"masukkan bilangan kedua: \"))\n",
        "\n",
        "jumlah = 0\n",
        "for i in range(a, b + 1):\n",
        "  jumlah = jumlah + i\n",
        "print(f\"jumlah: {jumlah}\")"
      ],
      "metadata": {
        "colab": {
          "base_uri": "https://localhost:8080/"
        },
        "id": "nGdrfGLxmvpG",
        "outputId": "eccf6e31-6028-412c-a3d9-cf3eb659fae2"
      },
      "execution_count": null,
      "outputs": [
        {
          "output_type": "stream",
          "name": "stdout",
          "text": [
            "masukkan bilangan pertama: 3\n",
            "masukkan bilangan kedua: 7\n",
            "jumlah: 25\n"
          ]
        }
      ]
    },
    {
      "cell_type": "code",
      "source": [
        "#program mencetak semua bilangan genap dalam rentang tersebut, termasuk a dan b\n",
        "a= int(input(\"masukkan bilangan genap:\"))\n",
        "b= int(input(\"masukkan bilangan genap:\"))\n",
        "print(\"bilangan genap dalam rentang tersebut adalah:\")\n",
        "for i in range(a + 1, b + 1, 2):\n",
        "  if i % 2 == 0:\n",
        "    print(i, end=\" \")\n"
      ],
      "metadata": {
        "colab": {
          "base_uri": "https://localhost:8080/"
        },
        "id": "-ROGXeDhroyf",
        "outputId": "c27d056d-870c-4ba2-87da-5dd75bd906ce"
      },
      "execution_count": null,
      "outputs": [
        {
          "output_type": "stream",
          "name": "stdout",
          "text": [
            "masukkan bilangan genap:3\n",
            "masukkan bilangan genap:10\n",
            "bilangan genap dalam rentang tersebut adalah:\n",
            "4 6 8 10 "
          ]
        }
      ]
    },
    {
      "cell_type": "code",
      "source": [
        "#program mencetak nilai dari array dalam urutan terbalik\n",
        "A =[5,2,8,1]\n",
        "B =[0] * len(A)\n",
        "\n",
        "for i in range(len(A)):\n",
        "  B[i] = A[-i -1]\n",
        "\n",
        "print(f\"Array asli: {A}\")\n",
        "print(f\"Array terbalik: {B}\")"
      ],
      "metadata": {
        "colab": {
          "base_uri": "https://localhost:8080/"
        },
        "id": "pMu8zAPite12",
        "outputId": "6d330f26-cb34-4988-c086-2d9862583aed"
      },
      "execution_count": null,
      "outputs": [
        {
          "output_type": "stream",
          "name": "stdout",
          "text": [
            "Array asli: [5, 2, 8, 1]\n",
            "Array terbalik: [1, 8, 2, 5]\n"
          ]
        }
      ]
    },
    {
      "cell_type": "code",
      "source": [
        "#program menentukan bilangan prima\n",
        "angka = int(input(\"masukkan angka:\"))\n",
        "prima = True\n",
        "\n",
        "if angka < 2:\n",
        "  prima = False\n",
        "else:\n",
        "    for i in range(2,int(angka ** 0.5) + 1):\n",
        "      if angka % i == 0:\n",
        "        prima = False\n",
        "        break\n",
        "\n",
        "if prima:\n",
        "          print(f\"{angka} adalah bilangan prima\")\n",
        "else:\n",
        "          print(f\"{angka} adalah bilangan prima\")\n"
      ],
      "metadata": {
        "colab": {
          "base_uri": "https://localhost:8080/"
        },
        "id": "JowLLNwCyhOH",
        "outputId": "a199e5fe-3f38-423e-e2fd-09637cabf81f"
      },
      "execution_count": 2,
      "outputs": [
        {
          "output_type": "stream",
          "name": "stdout",
          "text": [
            "masukkan angka:13\n",
            "13 adalah bilangan prima\n"
          ]
        }
      ]
    }
  ]
}